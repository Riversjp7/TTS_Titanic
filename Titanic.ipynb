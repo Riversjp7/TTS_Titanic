{
  "cells": [
    {
      "cell_type": "markdown",
      "metadata": {
        "id": "B8SxwHd9bAhu"
      },
      "source": [
        "Import necessary libraries. Feel free to import any more needed dependencies"
      ]
    },
    {
      "cell_type": "code",
      "execution_count": null,
      "metadata": {
        "id": "d1oNedojbAh1"
      },
      "outputs": [],
      "source": [
        "import pandas as pd\n",
        "import sklearn"
      ]
    },
    {
      "cell_type": "markdown",
      "metadata": {
        "id": "JgxLqU9ybAh2"
      },
      "source": [
        "Read in test and training data"
      ]
    },
    {
      "cell_type": "code",
      "execution_count": null,
      "metadata": {
        "id": "nN6YDUv7bAh3"
      },
      "outputs": [],
      "source": []
    },
    {
      "cell_type": "markdown",
      "metadata": {
        "id": "G6u575FGbAh3"
      },
      "source": [
        "Clean agreed upon features"
      ]
    },
    {
      "cell_type": "code",
      "execution_count": null,
      "metadata": {
        "id": "eXTI-iP6bAh3"
      },
      "outputs": [],
      "source": []
    },
    {
      "cell_type": "markdown",
      "metadata": {
        "id": "nazxy03BbAh4"
      },
      "source": [
        "train perspective models"
      ]
    },
    {
      "cell_type": "code",
      "execution_count": null,
      "metadata": {
        "id": "dQxHgFBLbAh4"
      },
      "outputs": [],
      "source": []
    },
    {
      "cell_type": "markdown",
      "source": [
        "The End\n"
      ],
      "metadata": {
        "id": "v9NAQbnKbv-8"
      }
    }
  ],
  "metadata": {
    "kernelspec": {
      "display_name": "Python 3.8.16 ('base')",
      "language": "python",
      "name": "python3"
    },
    "language_info": {
      "name": "python",
      "version": "3.8.16"
    },
    "orig_nbformat": 4,
    "vscode": {
      "interpreter": {
        "hash": "ddd102f6bf87ebd43b0121ef299fbaa7a8191c210755cdc76b22fc011b9b8a23"
      }
    },
    "colab": {
      "provenance": []
    }
  },
  "nbformat": 4,
  "nbformat_minor": 0
}